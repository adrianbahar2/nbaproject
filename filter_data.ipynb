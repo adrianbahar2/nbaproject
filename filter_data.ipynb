{
 "cells": [
  {
   "cell_type": "code",
   "execution_count": 35,
   "id": "89b30021",
   "metadata": {},
   "outputs": [
    {
     "name": "stdout",
     "output_type": "stream",
     "text": [
      "Filtered CSV file saved to NBA_PlayerStats_2011_2012.csv\n"
     ]
    }
   ],
   "source": [
    "import pandas as pd\n",
    "\n",
    "# Load the CSV file\n",
    "file_path = 'NBA_PlayerStats_2011_2012.csv'\n",
    "df = pd.read_csv(file_path)\n",
    "\n",
    "# Specify columns to keep\n",
    "columns_to_keep = [\n",
    "        'player_id',\n",
    "        'player_name',\n",
    "        'team_id',\n",
    "        'team_abbreviation',\n",
    "        'age',\n",
    "        'gp',\n",
    "        'w_pct',\n",
    "        'min',\n",
    "        'fgm',\n",
    "        'fga',\n",
    "        'fg_pct',\n",
    "        'fg3m',\n",
    "        'fg3a',\n",
    "        'fg3_pct',\n",
    "        'ftm',\n",
    "        'fta',\n",
    "        'ft_pct',\n",
    "        'oreb',\n",
    "        'dreb',\n",
    "        'reb',\n",
    "        'ast',\n",
    "        'tov',\n",
    "        'stl',\n",
    "        'blk',\n",
    "        'blka',\n",
    "        'pf',\n",
    "        'pfd',\n",
    "        'pts',\n",
    "        'plus_minus',\n",
    "        'dd2',\n",
    "        'td3',\n",
    "         ]  # Add the column names you want to keep\n",
    "\n",
    "# Filter the dataframe to keep only specified columns\n",
    "filtered_df = df[columns_to_keep]\n",
    "filtered_df = filtered_df[filtered_df['gp'] >= 58]\n",
    "#46 games for 2011 lockout\n",
    "#35 for 1998 lockout\n",
    "\n",
    "\n",
    "# Save the filtered dataframe to the original CSV file path\n",
    "filtered_df.to_csv(file_path, index=False)\n",
    "\n",
    "# Print a message indicating successful filtering and saving\n",
    "print(f'Filtered CSV file saved to {file_path}')\n"
   ]
  },
  {
   "cell_type": "code",
   "execution_count": null,
   "id": "5cc0d96f",
   "metadata": {},
   "outputs": [],
   "source": []
  },
  {
   "cell_type": "code",
   "execution_count": null,
   "id": "8885cac2",
   "metadata": {},
   "outputs": [],
   "source": []
  }
 ],
 "metadata": {
  "kernelspec": {
   "display_name": "Python 3 (ipykernel)",
   "language": "python",
   "name": "python3"
  },
  "language_info": {
   "codemirror_mode": {
    "name": "ipython",
    "version": 3
   },
   "file_extension": ".py",
   "mimetype": "text/x-python",
   "name": "python",
   "nbconvert_exporter": "python",
   "pygments_lexer": "ipython3",
   "version": "3.11.5"
  }
 },
 "nbformat": 4,
 "nbformat_minor": 5
}
